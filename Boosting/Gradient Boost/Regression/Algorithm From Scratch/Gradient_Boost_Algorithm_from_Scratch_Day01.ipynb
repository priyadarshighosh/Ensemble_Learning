{
  "nbformat": 4,
  "nbformat_minor": 0,
  "metadata": {
    "colab": {
      "private_outputs": true,
      "provenance": [],
      "collapsed_sections": [
        "buV9E0bf-37g"
      ]
    },
    "kernelspec": {
      "name": "python3",
      "display_name": "Python 3"
    },
    "language_info": {
      "name": "python"
    }
  },
  "cells": [
    {
      "cell_type": "markdown",
      "source": [
        "# Gradient Boosting ALgorithm from the scratch"
      ],
      "metadata": {
        "id": "buV9E0bf-37g"
      }
    },
    {
      "cell_type": "markdown",
      "source": [
        "# Importing the Libraries"
      ],
      "metadata": {
        "id": "BCgF8n91hEN4"
      }
    },
    {
      "cell_type": "markdown",
      "source": [
        "IMPORTING THE DATA SCIENCE LIBRARIES"
      ],
      "metadata": {
        "id": "HNvHInaq_BMJ"
      }
    },
    {
      "cell_type": "code",
      "execution_count": null,
      "metadata": {
        "id": "eum2WGOnBeeL"
      },
      "outputs": [],
      "source": [
        "\n",
        "import numpy as np\n",
        "import pandas as pd\n",
        "import seaborn as sns\n",
        "import matplotlib.pyplot as plt\n",
        "\n",
        "import time"
      ]
    },
    {
      "cell_type": "markdown",
      "source": [
        "Importing the ML / Scikit learn EVERYTHING"
      ],
      "metadata": {
        "id": "egI1aKHM_G4g"
      }
    },
    {
      "cell_type": "code",
      "source": [
        "from sklearn.linear_model import LogisticRegression\n",
        "from sklearn.neighbors import KNeighborsClassifier\n",
        "from sklearn.linear_model import RidgeClassifier\n",
        "from sklearn.tree import DecisionTreeClassifier\n",
        "from sklearn.ensemble import RandomForestClassifier, GradientBoostingClassifier\n",
        "from sklearn.svm import SVC\n",
        "from sklearn.neural_network import MLPClassifier"
      ],
      "metadata": {
        "id": "rw9qEruauW9l"
      },
      "execution_count": null,
      "outputs": []
    },
    {
      "cell_type": "code",
      "source": [
        "from sklearn.model_selection import train_test_split               #for splitting the data into test and training data\n",
        "from sklearn.compose import ColumnTransformer                       #for transforming the columns\n",
        "from sklearn.impute import SimpleImputer                             #for imputing the missing values\n",
        "from sklearn.preprocessing import OneHotEncoder                      #one hot encoding\n",
        "from sklearn.preprocessing import MinMaxScaler                        #standard scaling\n",
        "\n",
        "from sklearn.datasets import load_diabetes\n",
        "\n",
        "from sklearn.datasets import make_regression\n",
        "\n",
        "from sklearn.linear_model import LinearRegression\n",
        "from sklearn.linear_model import Ridge\n",
        "from sklearn.linear_model import Lasso\n",
        "from sklearn.linear_model import ElasticNet\n",
        "from sklearn.neighbors import KNeighborsRegressor\n",
        "from sklearn.tree import DecisionTreeRegressor\n",
        "from sklearn.ensemble import RandomForestRegressor\n",
        "from sklearn.ensemble import GradientBoostingRegressor\n",
        "from sklearn.neural_network import MLPRegressor\n",
        "from sklearn.svm import SVR\n",
        "from sklearn.metrics import mean_squared_error, r2_score\n",
        "\n",
        "\n",
        "from sklearn.svm import SVR\n",
        "import plotly.express as px\n",
        "import plotly.graph_objects as go\n",
        "from sklearn.datasets import make_classification\n",
        "\n",
        "from sklearn.preprocessing import LabelEncoder\n",
        "from sklearn.model_selection import train_test_split\n",
        "from sklearn.metrics import accuracy_score                 # for accuracy score\n",
        "from sklearn.model_selection import cross_val_score        # for cross validation score\n",
        "\n",
        "from sklearn.linear_model import LinearRegression           # Import the LinearRegression class\n",
        "from sklearn.metrics import mean_squared_error, r2_score    # to find out the error functions\n",
        "from sklearn.preprocessing import PolynomialFeatures , StandardScaler   # for the polunomial features\n",
        "\n",
        "from sklearn.pipeline import Pipeline\n",
        "from sklearn.linear_model import Ridge   # ridge Regression\n",
        "from sklearn.linear_model import LogisticRegression\n",
        "\n",
        "\n",
        "from sklearn.tree import DecisionTreeClassifier                 #Decision tree\n",
        "from sklearn.ensemble import RandomForestClassifier, GradientBoostingClassifier   # bagging and Boosting\n",
        "from sklearn.svm import SVC\n",
        "from sklearn.neural_network import MLPClassifier\n",
        "from sklearn.metrics import accuracy_score, precision_score, recall_score, f1_score, roc_auc_score   # different metrices to check how our model performed"
      ],
      "metadata": {
        "id": "wRReSbVmlxcK"
      },
      "execution_count": null,
      "outputs": []
    },
    {
      "cell_type": "markdown",
      "source": [
        "Importing Deep learning Everything"
      ],
      "metadata": {
        "id": "7EOOII0y82hE"
      }
    },
    {
      "cell_type": "code",
      "source": [
        "import tensorflow as tf\n",
        "from tensorflow import keras\n",
        "from tensorflow.keras import Sequential\n",
        "from tensorflow.keras.layers import Dense\n",
        "\n",
        "from tensorflow.keras.layers import Dropout\n",
        "from tensorflow.keras.optimizers import Adam"
      ],
      "metadata": {
        "id": "O1qjFngb87Y8"
      },
      "execution_count": null,
      "outputs": []
    },
    {
      "cell_type": "markdown",
      "source": [
        "Importing mathematical models"
      ],
      "metadata": {
        "id": "5oPnYaeAM0_1"
      }
    },
    {
      "cell_type": "code",
      "source": [
        "# prompt: import the mathematical testing framewroks\n",
        "\n",
        "# Importing mathematical models\n",
        "import math\n",
        "\n",
        "from scipy import stats\n",
        "from mlxtend.plotting import plot_decision_regions\n",
        "from mlxtend.classifier import StackingClassifier\n",
        "import scipy.stats as stats\n",
        "import statsmodels.api as sm"
      ],
      "metadata": {
        "id": "k4tgszGRGnCN"
      },
      "execution_count": null,
      "outputs": []
    },
    {
      "cell_type": "markdown",
      "source": [
        "# Creating our own Dataframe"
      ],
      "metadata": {
        "id": "uc5f7i1JhK_r"
      }
    },
    {
      "cell_type": "code",
      "source": [
        "np.random.seed(42)\n",
        "X = np.random.rand(100, 1) - 0.5\n",
        "y = 3*X[:,0]**2 +0.05*np.random.randn(100)"
      ],
      "metadata": {
        "id": "JaYpVMbdvPQG"
      },
      "execution_count": null,
      "outputs": []
    },
    {
      "cell_type": "code",
      "source": [
        "df=pd.DataFrame()\n",
        "df['X']=X.squeeze()\n",
        "df['y']=y"
      ],
      "metadata": {
        "id": "Me3Sx2GyvWvN"
      },
      "execution_count": null,
      "outputs": []
    },
    {
      "cell_type": "code",
      "source": [
        "df\n"
      ],
      "metadata": {
        "id": "n1gidFIUvfIM"
      },
      "execution_count": null,
      "outputs": []
    },
    {
      "cell_type": "markdown",
      "source": [
        "# Plotting the graph"
      ],
      "metadata": {
        "id": "FpQlIxCWwK1A"
      }
    },
    {
      "cell_type": "code",
      "source": [
        "plt.scatter(df['X'],df['y'])\n",
        "\n",
        "plt.xlabel('X')\n",
        "plt.ylabel('y')\n",
        "plt.title('Scatter Plot of X vs y')\n",
        "\n",
        "\n",
        "plt.show()\n"
      ],
      "metadata": {
        "id": "TO4cEcV5wMx1"
      },
      "execution_count": null,
      "outputs": []
    },
    {
      "cell_type": "markdown",
      "source": [
        "# Prediction and Residual  ( M1  )"
      ],
      "metadata": {
        "id": "oSIiisA8xenz"
      }
    },
    {
      "cell_type": "code",
      "source": [
        "df['Pred1'] = df['y'].mean()     #  Predicting  that is the mean of the results"
      ],
      "metadata": {
        "id": "1TlSyA74wg3Z"
      },
      "execution_count": null,
      "outputs": []
    },
    {
      "cell_type": "code",
      "source": [
        "df\n"
      ],
      "metadata": {
        "id": "rzhIGAh4wqL3"
      },
      "execution_count": null,
      "outputs": []
    },
    {
      "cell_type": "code",
      "source": [
        "df['Res1'] = df['y'] - df['Pred1']  #  Residual  =  subtracting from Actual"
      ],
      "metadata": {
        "id": "nBnHZdYow9lE"
      },
      "execution_count": null,
      "outputs": []
    },
    {
      "cell_type": "code",
      "source": [
        "df"
      ],
      "metadata": {
        "id": "Zc7tS4MbxaKf"
      },
      "execution_count": null,
      "outputs": []
    },
    {
      "cell_type": "markdown",
      "source": [
        "# Plotting the Prediction"
      ],
      "metadata": {
        "id": "4N0VRs3GxkXF"
      }
    },
    {
      "cell_type": "code",
      "source": [
        "plt.scatter(df['X'], df['y'])\n",
        "plt.plot(df['X'], df['Pred1'], color='red')\n",
        "\n",
        "\n",
        "plt.xlabel('X')\n",
        "plt.ylabel('Predicted y')\n",
        "plt.title('Scatter Plot of X vs Predicted y')\n",
        "plt.show()"
      ],
      "metadata": {
        "id": "TUW23kHvx1Ls"
      },
      "execution_count": null,
      "outputs": []
    },
    {
      "cell_type": "markdown",
      "source": [
        "# Decision Tree as MODEL 2"
      ],
      "metadata": {
        "id": "ZhJhAB9myvg3"
      }
    },
    {
      "cell_type": "code",
      "source": [
        "tree1  = DecisionTreeRegressor(max_depth=8)"
      ],
      "metadata": {
        "id": "db6B1HYeyzyL"
      },
      "execution_count": null,
      "outputs": []
    },
    {
      "cell_type": "code",
      "source": [
        "tree1.fit(df['X'].values.reshape(100,1),df['Res1'].values)"
      ],
      "metadata": {
        "id": "xd00jUIJy_5Q"
      },
      "execution_count": null,
      "outputs": []
    },
    {
      "cell_type": "code",
      "source": [
        "from sklearn.tree import plot_tree\n",
        "plot_tree(tree1)\n",
        "plt.show()"
      ],
      "metadata": {
        "id": "q0cxoKRqzdW6"
      },
      "execution_count": null,
      "outputs": []
    },
    {
      "cell_type": "code",
      "source": [
        "# generate X test\n",
        "\n",
        "X_test = np.linspace(-0.5 , 0.5 , 500 )"
      ],
      "metadata": {
        "id": "UwYtRt1e0Fya"
      },
      "execution_count": null,
      "outputs": []
    },
    {
      "cell_type": "code",
      "source": [
        "# model1 + model2\n",
        "y_pred  = 0.265458 +  tree1.predict(X_test.reshape(500,1))"
      ],
      "metadata": {
        "id": "9l2e4Xpf0Umz"
      },
      "execution_count": null,
      "outputs": []
    },
    {
      "cell_type": "code",
      "source": [
        "plt.figure(figsize=(14,4))\n",
        "plt.subplot(121)\n",
        "plt.plot(X_test , y_pred , linewidth=2 , color='red')\n",
        "plt.scatter(df['X'] , df['y'])                                      # plotting the graph"
      ],
      "metadata": {
        "id": "Y49SMFsu0X6t"
      },
      "execution_count": null,
      "outputs": []
    },
    {
      "cell_type": "code",
      "source": [
        "df"
      ],
      "metadata": {
        "id": "o6fl55NN1bLO"
      },
      "execution_count": null,
      "outputs": []
    },
    {
      "cell_type": "markdown",
      "source": [
        "# Finding the Prediction 2"
      ],
      "metadata": {
        "id": "y2Z0jwvI3dln"
      }
    },
    {
      "cell_type": "code",
      "source": [
        "df['Pred2'] =0.265458 +  tree1.predict(df['X'].values.reshape(100,1))"
      ],
      "metadata": {
        "id": "L98339dm2s0w"
      },
      "execution_count": null,
      "outputs": []
    },
    {
      "cell_type": "code",
      "source": [
        "df"
      ],
      "metadata": {
        "id": "lKr6AWzY22Ck"
      },
      "execution_count": null,
      "outputs": []
    },
    {
      "cell_type": "markdown",
      "source": [
        "# Finding the residual 2"
      ],
      "metadata": {
        "id": "zrDa4exp3vfY"
      }
    },
    {
      "cell_type": "code",
      "source": [
        "df['Res2'] = df['y'] - df['Pred2']"
      ],
      "metadata": {
        "id": "DOIRl2w928Uy"
      },
      "execution_count": null,
      "outputs": []
    },
    {
      "cell_type": "code",
      "source": [
        "df"
      ],
      "metadata": {
        "id": "nAlpWaXX3D_d"
      },
      "execution_count": null,
      "outputs": []
    },
    {
      "cell_type": "markdown",
      "source": [
        "# Decision Tree as MODEL 3"
      ],
      "metadata": {
        "id": "_Zqe11wq37mh"
      }
    },
    {
      "cell_type": "code",
      "source": [
        "tree2  = DecisionTreeRegressor(max_depth=8)"
      ],
      "metadata": {
        "id": "4D0zT2WK37mh"
      },
      "execution_count": null,
      "outputs": []
    },
    {
      "cell_type": "code",
      "source": [
        "tree2.fit(df['X'].values.reshape(100,1),df['Res2'].values)"
      ],
      "metadata": {
        "id": "1UNuM3Nl37mh"
      },
      "execution_count": null,
      "outputs": []
    },
    {
      "cell_type": "code",
      "source": [
        "from sklearn.tree import plot_tree\n",
        "plot_tree(tree1)\n",
        "plt.show()"
      ],
      "metadata": {
        "id": "oFO4ubd637mh"
      },
      "execution_count": null,
      "outputs": []
    },
    {
      "cell_type": "code",
      "source": [
        "y_pred  = 0.265458 +  sum(regressor.predict(X_test.reshape(-1,1)) for regressor in [tree1,tree2])"
      ],
      "metadata": {
        "id": "Dnxr7u9C6EyH"
      },
      "execution_count": null,
      "outputs": []
    },
    {
      "cell_type": "code",
      "source": [
        "plt.figure(figsize = (14, 4 ))\n",
        "plt.subplot(121)\n",
        "plt.plot(X_test , y_pred , linewidth = 2 , color = 'red')\n",
        "plt.scatter(df['X'] , df['y'])"
      ],
      "metadata": {
        "id": "BvMl4_x26OiS"
      },
      "execution_count": null,
      "outputs": []
    }
  ]
}